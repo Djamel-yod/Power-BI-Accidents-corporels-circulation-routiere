{
 "cells": [
  {
   "cell_type": "code",
   "execution_count": 153,
   "metadata": {},
   "outputs": [
    {
     "name": "stderr",
     "output_type": "stream",
     "text": [
      "C:\\Users\\Admin\\AppData\\Local\\Temp\\ipykernel_16080\\631756424.py:3: DtypeWarning: Columns (6) have mixed types. Specify dtype option on import or set low_memory=False.\n",
      "  df1=pd.read_csv(\"lieux-2022.csv\",sep=\";\")\n"
     ]
    }
   ],
   "source": [
    "# Import des trois bases de données\n",
    "import pandas as pd\n",
    "df1=pd.read_csv(\"lieux-2022.csv\",sep=\";\")\n",
    "df2=pd.read_csv(\"usagers-2022.csv\",sep=\";\")\n",
    "df3=pd.read_csv(\"carcteristiques-2022.csv\",sep=\";\")\n"
   ]
  },
  {
   "cell_type": "code",
   "execution_count": 154,
   "metadata": {},
   "outputs": [
    {
     "name": "stdout",
     "output_type": "stream",
     "text": [
      "        Num_Acc  catr                         voie  v1   v2  circ nbv  vosp  \\\n",
      "0  202200000001     4       TEIL(vieille route du)   0  NaN     2   2     0   \n",
      "1  202200000002     4                          NaN   0  NaN     2   2     0   \n",
      "2  202200000003     3      ROND POINT DE BREZILLET   0  NaN    -1   2     0   \n",
      "3  202200000004     4    QUATORZE JUILLET (RUE DU)   0  NaN     1   1     0   \n",
      "4  202200000005     3  ROUTE DE JEAN MOULIN-RN 538   0  NaN     2   2     0   \n",
      "\n",
      "   prof   pr  pr1  plan lartpc larrout  surf  infra  situ  vma  \n",
      "0     1  (1)  (1)     1    NaN      -1     1      0     1   50  \n",
      "1     1  (1)  (1)     1    NaN      -1     1      0     1   50  \n",
      "2     1    0    0     1    NaN      -1     1      5     1   50  \n",
      "3     2  (1)  (1)     1    NaN       4     1      0     1   30  \n",
      "4     1    8    0     1    NaN      -1     1      0     1   80  \n",
      "        Num_Acc  id_usager id_vehicule num_veh  place  catu  grav  sexe  \\\n",
      "0  202200000001  1 099 700     813 952     A01      1     1     3     1   \n",
      "1  202200000001  1 099 701     813 953     B01      1     1     1     1   \n",
      "2  202200000002  1 099 698     813 950     B01      1     1     4     1   \n",
      "3  202200000002  1 099 699     813 951     A01      1     1     1     1   \n",
      "4  202200000003  1 099 696     813 948     A01      1     1     1     1   \n",
      "\n",
      "   an_nais  trajet  secu1  secu2  secu3  locp actp  etatp  \n",
      "0   2008.0       5      2      8     -1    -1   -1     -1  \n",
      "1   1948.0       5      1      8     -1    -1   -1     -1  \n",
      "2   1988.0       9      1      0     -1     0    0     -1  \n",
      "3   1970.0       4      1      0     -1     0    0     -1  \n",
      "4   2002.0       0      1      0     -1    -1   -1     -1  \n",
      "    Accident_Id  jour  mois    an   hrmn  lum dep    com  agg  int  atm  col  \\\n",
      "0  202200000001    19    10  2022  16:15    1  26  26198    2    3    1    3   \n",
      "1  202200000002    20    10  2022  08:34    1  25  25204    2    3    1    3   \n",
      "2  202200000003    20    10  2022  17:15    1  22  22360    2    6    1    2   \n",
      "3  202200000004    20    10  2022  18:00    1  16  16102    2    3    8    6   \n",
      "4  202200000005    19    10  2022  11:45    1  13  13103    1    1    1    2   \n",
      "\n",
      "                           adr            lat            long  \n",
      "0       TEIL(vieille route du)  44,5594200000    4,7257200000  \n",
      "1                      Miranda  46,9258100000    6,3462000000  \n",
      "2      ROND POINT DE BREZILLET  48,4931620000   -2,7604390000  \n",
      "3               LOHMEYER (RUE)  45,6926520000   -0,3262900000  \n",
      "4  ROUTE DE JEAN MOULIN-RN 538  43,6755790366    5,0927031775  \n"
     ]
    }
   ],
   "source": [
    "print(df1.head(5))\n",
    "print(df2.head(5))\n",
    "print(df3.head(5))"
   ]
  },
  {
   "cell_type": "markdown",
   "metadata": {},
   "source": [
    "## Structuration de la base de données caractéristiques"
   ]
  },
  {
   "cell_type": "code",
   "execution_count": 156,
   "metadata": {},
   "outputs": [
    {
     "name": "stdout",
     "output_type": "stream",
     "text": [
      "   Numero Accident  Annee accident Conditions atmosphériques  \\\n",
      "0     202200000001            2022                   Normale   \n",
      "1     202200000002            2022                   Normale   \n",
      "2     202200000003            2022                   Normale   \n",
      "3     202200000004            2022             Temps couvert   \n",
      "4     202200000005            2022                   Normale   \n",
      "\n",
      "  Conditions eclairage Departement Commune      Lattitude       Longitude  \n",
      "0           Plein jour          26   26198  44,5594200000    4,7257200000  \n",
      "1           Plein jour          25   25204  46,9258100000    6,3462000000  \n",
      "2           Plein jour          22   22360  48,4931620000   -2,7604390000  \n",
      "3           Plein jour          16   16102  45,6926520000   -0,3262900000  \n",
      "4           Plein jour          13   13103  43,6755790366    5,0927031775  \n"
     ]
    },
    {
     "name": "stderr",
     "output_type": "stream",
     "text": [
      "C:\\Users\\Admin\\AppData\\Local\\Temp\\ipykernel_16080\\2231743382.py:10: SettingWithCopyWarning: \n",
      "A value is trying to be set on a copy of a slice from a DataFrame.\n",
      "Try using .loc[row_indexer,col_indexer] = value instead\n",
      "\n",
      "See the caveats in the documentation: https://pandas.pydata.org/pandas-docs/stable/user_guide/indexing.html#returning-a-view-versus-a-copy\n",
      "  df_caracteristiques['Conditions atmosphériques']=df_caracteristiques['Conditions atmosphériques'].replace(val_modalite1,labels_modalite1)\n",
      "C:\\Users\\Admin\\AppData\\Local\\Temp\\ipykernel_16080\\2231743382.py:16: SettingWithCopyWarning: \n",
      "A value is trying to be set on a copy of a slice from a DataFrame.\n",
      "Try using .loc[row_indexer,col_indexer] = value instead\n",
      "\n",
      "See the caveats in the documentation: https://pandas.pydata.org/pandas-docs/stable/user_guide/indexing.html#returning-a-view-versus-a-copy\n",
      "  df_caracteristiques['Conditions eclairage']=df_caracteristiques['Conditions eclairage'].replace(val_modalite1,labels_modalite1)\n"
     ]
    }
   ],
   "source": [
    "df_caracteristiques=df3[['Accident_Id','an','atm','lum','dep','com','lat','long']]\n",
    "nom_colonnes=['Numero Accident','Annee accident','Conditions atmosphériques','Conditions eclairage',\n",
    "              'Departement','Commune','Lattitude','Longitude']\n",
    "df_caracteristiques.columns=nom_colonnes\n",
    "\n",
    "# Labelisation variable Conditions atmosphériques\n",
    "val_modalite1=[-1,1,2,3,4,5,6,7,8,9]\n",
    "labels_modalite1=['Autre','Normale','Pluie légère','Pluie forte','Neige - grêle','Brouillard - fumée',\n",
    "                'Vent fort - tempête','Temps éblouissant','Temps couvert','Autre']\n",
    "df_caracteristiques['Conditions atmosphériques']=df_caracteristiques['Conditions atmosphériques'].replace(val_modalite1,labels_modalite1)\n",
    "\n",
    "# Labelisation variable Conditions d'éclairage\n",
    "val_modalite1=[-1,1,2,3,4,5]\n",
    "labels_modalite1=['Non renseigné','Plein jour','Crépuscule ou aube','Nuit sans éclairage public','Nuit avec éclairage public non allumé',\n",
    "                 'Nuit avec éclairage public allumé']\n",
    "df_caracteristiques['Conditions eclairage']=df_caracteristiques['Conditions eclairage'].replace(val_modalite1,labels_modalite1)\n",
    "\n",
    "print(df_caracteristiques.head(5))\n",
    "\n",
    "df_caracteristiques.to_csv('carcteristiques-2022_modified.csv',sep=';', encoding='utf-8', index=False)\n"
   ]
  },
  {
   "cell_type": "markdown",
   "metadata": {},
   "source": [
    "#### Structuration Base de données lieux\n",
    "\n"
   ]
  },
  {
   "cell_type": "code",
   "execution_count": 157,
   "metadata": {},
   "outputs": [
    {
     "name": "stdout",
     "output_type": "stream",
     "text": [
      "   Nummero Accident     Categorie de route              Nom de la route\n",
      "0      202200000001        Voie Communales       TEIL(vieille route du)\n",
      "1      202200000002        Voie Communales                          NaN\n",
      "2      202200000003   Route Départementale      ROND POINT DE BREZILLET\n",
      "3      202200000004        Voie Communales    QUATORZE JUILLET (RUE DU)\n",
      "4      202200000005   Route Départementale  ROUTE DE JEAN MOULIN-RN 538\n"
     ]
    },
    {
     "name": "stderr",
     "output_type": "stream",
     "text": [
      "C:\\Users\\Admin\\AppData\\Local\\Temp\\ipykernel_16080\\4211883023.py:10: SettingWithCopyWarning: \n",
      "A value is trying to be set on a copy of a slice from a DataFrame.\n",
      "Try using .loc[row_indexer,col_indexer] = value instead\n",
      "\n",
      "See the caveats in the documentation: https://pandas.pydata.org/pandas-docs/stable/user_guide/indexing.html#returning-a-view-versus-a-copy\n",
      "  df_lieux['Categorie de route']=df_lieux['Categorie de route'].replace(val_modalite,labels_modalite)\n"
     ]
    }
   ],
   "source": [
    "df_lieux=df1[['Num_Acc','catr', 'voie']]\n",
    "nom_colonnes=['Nummero Accident','Categorie de route','Nom de la route']\n",
    "df_lieux.columns=nom_colonnes\n",
    "\n",
    "# Labelisation variable Categorie de la route\n",
    "val_modalite=[1,2,3,4,5,6,7,9]\n",
    "labels_modalite=['Autoroute','Route nationale',' Route Départementale',\n",
    "                 'Voie Communales','Hors réseau public','Parc de stationnement ouvert à la circulation publique',\n",
    "                 'Routes de métropole urbaine','autre']\n",
    "df_lieux['Categorie de route']=df_lieux['Categorie de route'].replace(val_modalite,labels_modalite)\n",
    "\n",
    "print(df_lieux.head(5))\n",
    "df_lieux.to_csv('lieux-2022_modified.csv',sep=';',encoding='utf-8', index=False)\n"
   ]
  },
  {
   "cell_type": "markdown",
   "metadata": {},
   "source": [
    "#### Structuration Base de données usagers\n"
   ]
  },
  {
   "cell_type": "code",
   "execution_count": 158,
   "metadata": {},
   "outputs": [
    {
     "name": "stderr",
     "output_type": "stream",
     "text": [
      "C:\\Users\\Admin\\AppData\\Local\\Temp\\ipykernel_16080\\2633882584.py:5: SettingWithCopyWarning: \n",
      "A value is trying to be set on a copy of a slice from a DataFrame.\n",
      "Try using .loc[row_indexer,col_indexer] = value instead\n",
      "\n",
      "See the caveats in the documentation: https://pandas.pydata.org/pandas-docs/stable/user_guide/indexing.html#returning-a-view-versus-a-copy\n",
      "  df_passager['Annee Naissance']=df_passager['Annee Naissance'].astype(str)\n",
      "C:\\Users\\Admin\\AppData\\Local\\Temp\\ipykernel_16080\\2633882584.py:7: SettingWithCopyWarning: \n",
      "A value is trying to be set on a copy of a slice from a DataFrame.\n",
      "Try using .loc[row_indexer,col_indexer] = value instead\n",
      "\n",
      "See the caveats in the documentation: https://pandas.pydata.org/pandas-docs/stable/user_guide/indexing.html#returning-a-view-versus-a-copy\n",
      "  df_passager['Annee Naissance']=df_passager['Annee Naissance'].str.split(\".\").str[0]\n",
      "C:\\Users\\Admin\\AppData\\Local\\Temp\\ipykernel_16080\\2633882584.py:12: SettingWithCopyWarning: \n",
      "A value is trying to be set on a copy of a slice from a DataFrame.\n",
      "Try using .loc[row_indexer,col_indexer] = value instead\n",
      "\n",
      "See the caveats in the documentation: https://pandas.pydata.org/pandas-docs/stable/user_guide/indexing.html#returning-a-view-versus-a-copy\n",
      "  df_passager['gravite']=df_passager['gravite'].replace(val_modalite1,labels_modalite1)\n",
      "C:\\Users\\Admin\\AppData\\Local\\Temp\\ipykernel_16080\\2633882584.py:17: SettingWithCopyWarning: \n",
      "A value is trying to be set on a copy of a slice from a DataFrame.\n",
      "Try using .loc[row_indexer,col_indexer] = value instead\n",
      "\n",
      "See the caveats in the documentation: https://pandas.pydata.org/pandas-docs/stable/user_guide/indexing.html#returning-a-view-versus-a-copy\n",
      "  df_passager['sexe']=df_passager['sexe'].replace(val_modalite2,labels_modalite2)\n"
     ]
    },
    {
     "name": "stdout",
     "output_type": "stream",
     "text": [
      "   Numero Accident  id_usager id_vehicule             gravite      sexe  \\\n",
      "0     202200000001  1 099 700     813 952  Blessé_hospitalise  Masculin   \n",
      "1     202200000001  1 099 701     813 953             Indemne  Masculin   \n",
      "2     202200000002  1 099 698     813 950        Blessé léger  Masculin   \n",
      "3     202200000002  1 099 699     813 951             Indemne  Masculin   \n",
      "4     202200000003  1 099 696     813 948             Indemne  Masculin   \n",
      "\n",
      "  Annee Naissance  \n",
      "0            2008  \n",
      "1            1948  \n",
      "2            1988  \n",
      "3            1970  \n",
      "4            2002  \n"
     ]
    }
   ],
   "source": [
    "df_passager=df2[['Num_Acc','id_usager','id_vehicule','grav','sexe','an_nais']]\n",
    "nom_colonnes1=['Numero Accident','id_usager','id_vehicule','gravite','sexe','Annee Naissance']\n",
    "df_passager.columns=nom_colonnes1\n",
    "\n",
    "df_passager['Annee Naissance']=df_passager['Annee Naissance'].astype(str)\n",
    "df_passager['Annee Naissance'].dtype\n",
    "df_passager['Annee Naissance']=df_passager['Annee Naissance'].str.split(\".\").str[0]\n",
    "\n",
    "# Labelisation de la variable gravite\n",
    "val_modalite1=[-1,1,2,3,4]\n",
    "labels_modalite1=['Non renseigné','Indemne','Tué','Blessé_hospitalise','Blessé léger']\n",
    "df_passager['gravite']=df_passager['gravite'].replace(val_modalite1,labels_modalite1)\n",
    "\n",
    "# Labelisation de la variable sexe\n",
    "val_modalite2=[-1,1,2]\n",
    "labels_modalite2=['Non définie','Masculin','Feminin']\n",
    "df_passager['sexe']=df_passager['sexe'].replace(val_modalite2,labels_modalite2)\n",
    "print(df_passager.head(5))\n",
    "\n",
    "df_passager.to_csv('usagers-2022_modified.csv',sep=';',encoding='utf-8', index=False)\n"
   ]
  }
 ],
 "metadata": {
  "kernelspec": {
   "display_name": "Python 3",
   "language": "python",
   "name": "python3"
  },
  "language_info": {
   "codemirror_mode": {
    "name": "ipython",
    "version": 3
   },
   "file_extension": ".py",
   "mimetype": "text/x-python",
   "name": "python",
   "nbconvert_exporter": "python",
   "pygments_lexer": "ipython3",
   "version": "3.12.1"
  }
 },
 "nbformat": 4,
 "nbformat_minor": 2
}
